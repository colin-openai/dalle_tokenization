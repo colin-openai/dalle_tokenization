{
 "cells": [
  {
   "cell_type": "markdown",
   "id": "a0edc577",
   "metadata": {},
   "source": [
    "# DALL-E Tokenisation\n",
    "\n",
    "This notebook performs testing around the tokenisation of DALL-E requests"
   ]
  },
  {
   "cell_type": "code",
   "execution_count": 1,
   "id": "190b1cd9",
   "metadata": {},
   "outputs": [
    {
     "name": "stderr",
     "output_type": "stream",
     "text": [
      "None of PyTorch, TensorFlow >= 2.0, or Flax have been found. Models won't be available and only tokenizers, configuration and file/data utilities can be used.\n"
     ]
    }
   ],
   "source": [
    "# imports\n",
    "import openai  # OpenAI Python library to make API calls\n",
    "import os  # used to access filepaths\n",
    "from transformers import GPT2TokenizerFast\n",
    "\n",
    "# set API key\n",
    "openai.api_key = os.environ.get(\"OPENAI_API_KEY\")"
   ]
  },
  {
   "cell_type": "code",
   "execution_count": 2,
   "id": "f1bf438e",
   "metadata": {},
   "outputs": [],
   "source": [
    "tokenizer = GPT2TokenizerFast.from_pretrained(\"gpt2\")"
   ]
  },
  {
   "cell_type": "code",
   "execution_count": 13,
   "id": "138485c2",
   "metadata": {},
   "outputs": [
    {
     "data": {
      "text/plain": [
       "380"
      ]
     },
     "execution_count": 13,
     "metadata": {},
     "output_type": "execute_result"
    }
   ],
   "source": [
    "prompt = \"Painted between 1503 and 1517, Da Vinci’s alluring portrait has been dogged by two questions since the day it was made: Who’s the subject and why is she smiling? A number of theories for the former have been proffered over the years: That she’s the wife of the Florentine merchant Francesco di Bartolomeo del Giocondo (ergo, the work’s alternative title, La Gioconda); that she's Leonardo’s mother, Caterina, conjured from Leonardo's boyhood memories of her; and finally, that it's a self-portrait in drag. As for that famous smile, its enigmatic quality has driven people crazy for centuries. Whatever the reason, Mona Lisa’s look of preternatural calm comports with the idealized landscape behind her, which dissolves into the distance through Leonardo’s use of atmospheric perspective.\"\n",
    "shortened_prompt = prompt[:380]\n",
    "len(shortened_prompt)"
   ]
  },
  {
   "cell_type": "code",
   "execution_count": 14,
   "id": "4e76ebd2",
   "metadata": {},
   "outputs": [
    {
     "data": {
      "text/plain": [
       "\"Painted between 1503 and 1517, Da Vinci’s alluring portrait has been dogged by two questions since the day it was made: Who’s the subject and why is she smiling? A number of theories for the former have been proffered over the years: That she’s the wife of the Florentine merchant Francesco di Bartolomeo del Giocondo (ergo, the work’s alternative title, La Gioconda); that she's \""
      ]
     },
     "execution_count": 14,
     "metadata": {},
     "output_type": "execute_result"
    }
   ],
   "source": [
    "shortened_prompt"
   ]
  },
  {
   "cell_type": "markdown",
   "id": "efa3c57b",
   "metadata": {},
   "source": [
    "### English\n",
    "\n",
    "This prompt is 64 words long and 102 tokens in English"
   ]
  },
  {
   "cell_type": "code",
   "execution_count": 10,
   "id": "75ad0f76",
   "metadata": {},
   "outputs": [
    {
     "data": {
      "text/plain": [
       "(102, 64)"
      ]
     },
     "execution_count": 10,
     "metadata": {},
     "output_type": "execute_result"
    }
   ],
   "source": [
    "len(tokenizer(shortened_prompt)['input_ids']), len(shortened_prompt.split(' '))"
   ]
  },
  {
   "cell_type": "markdown",
   "id": "44cf6984",
   "metadata": {},
   "source": [
    "### German\n",
    "\n",
    "This prompt is 65 words and 143 tokens in German"
   ]
  },
  {
   "cell_type": "code",
   "execution_count": 17,
   "id": "6bd10387",
   "metadata": {},
   "outputs": [
    {
     "data": {
      "text/plain": [
       "(146, 65)"
      ]
     },
     "execution_count": 17,
     "metadata": {},
     "output_type": "execute_result"
    }
   ],
   "source": [
    "german_prompt = 'Da Vincis verführerisches Porträt, das zwischen 1503 und 1517 gemalt wurde, wird seit dem Tag seiner Entstehung von zwei Fragen verfolgt: Wer ist das Motiv und warum lächelt sie? Im Laufe der Jahre wurde eine Reihe von Theorien für Ersteres aufgestellt: Dass sie die Frau des Florentiner Kaufmanns Francesco di Bartolomeo del Giocondo ist (daher der alternative Titel des Werks, La Gioconda); dass sie ist'\n",
    "len(tokenizer(german_prompt)['input_ids']), len(german_prompt.split(' '))"
   ]
  },
  {
   "cell_type": "markdown",
   "id": "229d4176",
   "metadata": {},
   "source": [
    "### French\n",
    "\n",
    "The same prompt is 151 tokens and 71 words in French"
   ]
  },
  {
   "cell_type": "code",
   "execution_count": 18,
   "id": "22957680",
   "metadata": {},
   "outputs": [
    {
     "data": {
      "text/plain": [
       "(151, 71)"
      ]
     },
     "execution_count": 18,
     "metadata": {},
     "output_type": "execute_result"
    }
   ],
   "source": [
    "french_prompt = \"Peint entre 1503 et 1517, le portrait séduisant de Léonard de Vinci a été entravé par deux questions depuis le jour où il a été réalisé : qui est le sujet et pourquoi sourit-elle ? Un certain nombre de théories pour la première ont été avancées au fil des ans : Qu'elle est l'épouse du marchand florentin Francesco di Bartolomeo del Giocondo (ergo, le titre alternatif de l'œuvre, La Gioconda) ; qu'elle est\"\n",
    "len(tokenizer(french_prompt)['input_ids']), len(french_prompt.split(' '))"
   ]
  },
  {
   "cell_type": "markdown",
   "id": "32603385",
   "metadata": {},
   "source": [
    "### Spanish\n",
    "\n",
    "This prompt is 71 words and 145 tokens in Spanish"
   ]
  },
  {
   "cell_type": "code",
   "execution_count": 19,
   "id": "ab2ddbe3",
   "metadata": {},
   "outputs": [
    {
     "data": {
      "text/plain": [
       "(145, 71)"
      ]
     },
     "execution_count": 19,
     "metadata": {},
     "output_type": "execute_result"
    }
   ],
   "source": [
    "spanish_prompt = \"Pintado entre 1503 y 1517, el seductor retrato de Da Vinci ha sido perseguido por dos preguntas desde el día en que se hizo: ¿Quién es el sujeto y por qué está sonriendo? A lo largo de los años se han propuesto varias teorías sobre la primera: que es la esposa del comerciante florentino Francesco di Bartolomeo del Giocondo (ergo, el título alternativo de la obra, La Gioconda); que ella es\"\n",
    "len(tokenizer(spanish_prompt)['input_ids']), len(spanish_prompt.split(' '))"
   ]
  },
  {
   "cell_type": "markdown",
   "id": "1a48e4a4",
   "metadata": {},
   "source": [
    "### Length limit\n",
    "\n",
    "A quick test below confirms that our limit is 400 tokens, regardless of character/word length"
   ]
  },
  {
   "cell_type": "code",
   "execution_count": 36,
   "id": "c795f715",
   "metadata": {},
   "outputs": [
    {
     "data": {
      "text/plain": [
       "(373, 409)"
      ]
     },
     "execution_count": 36,
     "metadata": {},
     "output_type": "execute_result"
    }
   ],
   "source": [
    "# First one goes through ok, second one does not - limit looks like 400 tokens\n",
    "len(tokenizer(((french_prompt * 3)[:1000]))['input_ids']), len(tokenizer(((french_prompt * 3)[:1100]))['input_ids'])"
   ]
  },
  {
   "cell_type": "code",
   "execution_count": 34,
   "id": "4e56b8f5",
   "metadata": {},
   "outputs": [
    {
     "name": "stdout",
     "output_type": "stream",
     "text": [
      "{\n",
      "  \"created\": 1674058998,\n",
      "  \"data\": [\n",
      "    {\n",
      "      \"url\": \"https://oaidalleapiprodscus.blob.core.windows.net/private/org-p13k3klgno5cqxbf0q8hpgrk/user-bNCqePPoKgqwthLR9466rHnU/img-ydGVU138oMssBJSfAMwuhmMU.png?st=2023-01-18T15%3A23%3A18Z&se=2023-01-18T17%3A23%3A18Z&sp=r&sv=2021-08-06&sr=b&rscd=inline&rsct=image/png&skoid=6aaadede-4fb3-4698-a8f6-684d7786b067&sktid=a48cca56-e6da-484e-a814-9c849652bcb3&skt=2023-01-18T16%3A09%3A11Z&ske=2023-01-19T16%3A09%3A11Z&sks=b&skv=2021-08-06&sig=%2Bh1y2%2Bf3j4NL61A%2BP/gF9hDwxPgBy8uNafAgLeXzqx8%3D\"\n",
      "    }\n",
      "  ]\n",
      "}\n"
     ]
    }
   ],
   "source": [
    "# create an image\n",
    "\n",
    "# set the prompt\n",
    "prompt = (french_prompt * 3)[:1000]\n",
    "\n",
    "# call the OpenAI API\n",
    "generation_response = openai.Image.create(\n",
    "    prompt=prompt,\n",
    "    n=1,\n",
    "    size=\"1024x1024\",\n",
    "    response_format=\"url\",\n",
    ")\n",
    "\n",
    "# print response\n",
    "print(generation_response)"
   ]
  }
 ],
 "metadata": {
  "kernelspec": {
   "display_name": "venv",
   "language": "python",
   "name": "venv"
  },
  "language_info": {
   "codemirror_mode": {
    "name": "ipython",
    "version": 3
   },
   "file_extension": ".py",
   "mimetype": "text/x-python",
   "name": "python",
   "nbconvert_exporter": "python",
   "pygments_lexer": "ipython3",
   "version": "3.10.9"
  }
 },
 "nbformat": 4,
 "nbformat_minor": 5
}
